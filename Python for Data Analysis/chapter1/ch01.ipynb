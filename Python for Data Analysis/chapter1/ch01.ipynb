{
 "cells": [
  {
   "cell_type": "markdown",
   "metadata": {},
   "source": [
    "## 简介"
   ]
  },
  {
   "cell_type": "markdown",
   "metadata": {},
   "source": [
    "### 集成包EPDFree\n",
    "\n",
    "  EPDFree提供了一个免费的跨平台安装程序，其中有6个库是科学家、工程师和分析人员的基础。\n",
    "  EPDFree为那些想要为他们的应用程序分配一个小的、可靠的环境的开发人员提供了一个完美的包。"
   ]
  },
  {
   "cell_type": "markdown",
   "metadata": {},
   "source": [
    "### 本书涉及到的python主要工具包\n",
    "\n",
    "- Numpy\n",
    "- Pandas\n",
    "- matplotlib\n",
    "- Ipython\n",
    "- Scipy"
   ]
  },
  {
   "cell_type": "markdown",
   "metadata": {},
   "source": []
  }
 ],
 "metadata": {
  "kernelspec": {
   "display_name": "Python 3",
   "language": "python",
   "name": "python3"
  },
  "language_info": {
   "codemirror_mode": {
    "name": "ipython",
    "version": 3
   },
   "file_extension": ".py",
   "mimetype": "text/x-python",
   "name": "python",
   "nbconvert_exporter": "python",
   "pygments_lexer": "ipython3",
   "version": "3.6.0"
  }
 },
 "nbformat": 4,
 "nbformat_minor": 2
}
